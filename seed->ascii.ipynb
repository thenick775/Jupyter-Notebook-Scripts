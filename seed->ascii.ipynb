{
 "cells": [
  {
   "cell_type": "code",
   "execution_count": 1,
   "metadata": {},
   "outputs": [],
   "source": [
    "import numpy as np"
   ]
  },
  {
   "cell_type": "code",
   "execution_count": 2,
   "metadata": {},
   "outputs": [],
   "source": [
    "import pandas as pd"
   ]
  },
  {
   "cell_type": "code",
   "execution_count": 3,
   "metadata": {},
   "outputs": [],
   "source": [
    "import obspy"
   ]
  },
  {
   "cell_type": "code",
   "execution_count": 4,
   "metadata": {},
   "outputs": [],
   "source": [
    "stream = obspy.read(\"fdsnws-dataselect_2019-02-18t04_03_47z.mseed\")"
   ]
  },
  {
   "cell_type": "code",
   "execution_count": 5,
   "metadata": {},
   "outputs": [
    {
     "data": {
      "text/plain": [
       "9 Trace(s) in Stream:\n",
       "1F.SAB1..BHE | 2015-12-31T16:58:53.400000Z - 2015-12-31T17:06:40.940000Z | 50.0 Hz, 23378 samples\n",
       "1F.SAB1..BHE | 2015-12-31T17:13:13.780000Z - 2015-12-31T17:57:08.160000Z | 50.0 Hz, 131720 samples\n",
       "1F.SAB1..BHE | 2015-12-31T18:07:15.720000Z - 2016-01-09T16:46:08.860000Z | 50.0 Hz, 38636658 samples\n",
       "1F.SAB1..BHN | 2015-12-31T16:58:50.340000Z - 2015-12-31T17:06:38.200000Z | 50.0 Hz, 23394 samples\n",
       "1F.SAB1..BHN | 2015-12-31T17:13:12.580000Z - 2015-12-31T17:57:12.360000Z | 50.0 Hz, 131990 samples\n",
       "1F.SAB1..BHN | 2015-12-31T18:07:14.680000Z - 2016-01-09T16:46:08.180000Z | 50.0 Hz, 38636676 samples\n",
       "1F.SAB1..BHZ | 2015-12-31T16:58:49.400000Z - 2015-12-31T17:06:23.340000Z | 50.0 Hz, 22698 samples\n",
       "1F.SAB1..BHZ | 2015-12-31T17:13:17.100000Z - 2015-12-31T17:57:12.520000Z | 50.0 Hz, 131772 samples\n",
       "1F.SAB1..BHZ | 2015-12-31T18:07:16.880000Z - 2016-01-09T16:45:37.120000Z | 50.0 Hz, 38635013 samples"
      ]
     },
     "execution_count": 5,
     "metadata": {},
     "output_type": "execute_result"
    }
   ],
   "source": [
    "stream"
   ]
  },
  {
   "cell_type": "code",
   "execution_count": null,
   "metadata": {},
   "outputs": [],
   "source": [
    "x=0\n",
    "for tmpstream in stream:\n",
    "    tmpstream.write('outfile'+str(x)+'.ascii',format='TSPAIR')\n",
    "    x+=1"
   ]
  },
  {
   "cell_type": "code",
   "execution_count": null,
   "metadata": {},
   "outputs": [],
   "source": []
  }
 ],
 "metadata": {
  "kernelspec": {
   "display_name": "Python 3",
   "language": "python",
   "name": "python3"
  },
  "language_info": {
   "codemirror_mode": {
    "name": "ipython",
    "version": 3
   },
   "file_extension": ".py",
   "mimetype": "text/x-python",
   "name": "python",
   "nbconvert_exporter": "python",
   "pygments_lexer": "ipython3",
   "version": "3.7.1"
  }
 },
 "nbformat": 4,
 "nbformat_minor": 2
}
