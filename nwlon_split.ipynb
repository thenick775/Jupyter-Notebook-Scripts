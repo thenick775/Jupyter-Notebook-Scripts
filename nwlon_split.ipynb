{
 "cells": [
  {
   "cell_type": "code",
   "execution_count": 10,
   "metadata": {},
   "outputs": [],
   "source": [
    "#This notebook takes in the monthly 6 minute co-ops nwlon station meteorological data\n",
    "#and separates it into files based on measurement type, one for each measurement type per each monthly file.\n",
    "#The resulting files will have an abbreviation of their measurement name attatched to their file name before .csv\n",
    "\n",
    "#To use this notebook, you must download the data from the NWLON site in 6-minute format, and place the name of one\n",
    "#of the files in the testname variable (this only needs to be done once for each year), you may also want to check \n",
    "#that the name variable when it prints is the correct id of the station, with a * for glob. \n",
    "#After this a list of the files this notebook will split will be displayed along with a count of the files.\n",
    "#Now you can run the notebook from top to bottom (run all) and it will generate all required files,\n",
    "# where vis and relhum will most likely be empty except for a select few stations with these parameters.\n",
    "\n",
    "#If the diff test fails, you will see a dataframe printout that includes the problem rows, so you can\n",
    "#deduce what happened/what is different and make a correction.\n",
    "\n",
    "#To use the file remove cell at the bottom, so it does not take a long time to delete unwanted files, set remove_flg=True,\n",
    "#this will remove all generated files.\n",
    "#Set both remove_flg and remove_all_flg to true to remove all files (generated and origionals). \n",
    "#****Remember if you use the remove files cell, to set both boolean variables false before you perform any other\n",
    "#actions****\n",
    "\n",
    "#This notebook is designed to operate with only the current station's files (generated and origionals) in the \n",
    "#directory containing this notebook, to avoid problems with glob. This is why the file remove cell is included."
   ]
  },
  {
   "cell_type": "code",
   "execution_count": 2,
   "metadata": {},
   "outputs": [],
   "source": [
    "import numpy as np\n",
    "import pandas as pd\n",
    "import glob\n",
    "import os"
   ]
  },
  {
   "cell_type": "code",
   "execution_count": 3,
   "metadata": {
    "scrolled": true
   },
   "outputs": [
    {
     "name": "stdout",
     "output_type": "stream",
     "text": [
      "name=CO-OPS_8736897*\n",
      "CO-OPS_8736897_from_20140801_to_20140831_met.csv\n",
      "CO-OPS_8736897_from_20140401_to_20140430_met.csv\n",
      "CO-OPS_8736897_from_20140101_to_20140131_met.csv\n",
      "CO-OPS_8736897_from_20141001_to_20141031_met.csv\n",
      "CO-OPS_8736897_from_20140201_to_20140228_met.csv\n",
      "CO-OPS_8736897_from_20140701_to_20140730_met.csv\n",
      "CO-OPS_8736897_from_20140601_to_20140630_met.csv\n",
      "CO-OPS_8736897_from_20140301_to_20140331_met.csv\n",
      "CO-OPS_8736897_from_20141201_to_20141231_met.csv\n",
      "CO-OPS_8736897_from_20140501_to_20140531_met.csv\n",
      "CO-OPS_8736897_from_20141101_to_20141130_met.csv\n",
      "CO-OPS_8736897_from_20140901_to_20140930_met.csv\n",
      "count=12\n"
     ]
    }
   ],
   "source": [
    "testname='CO-OPS_8736897_from_20140101_to_20140131_met.csv'\n",
    "name=testname[:14]+\"*\"#'%s%s'%('CO-OPS_8736897','*')\n",
    "print('name='+name)\n",
    "col_to_extdict={' WINDSPEED':'ws.csv',' DIR':'wd.csv',' GUSTS':'gs.csv',' AT':'at.csv',' BARO':'bp.csv',' RELHUM':'rh.csv',' VIS':'vs.csv'}\n",
    "count=0\n",
    "for fname in glob.glob(name):#files to be split\n",
    "    print(fname)\n",
    "    count+=1\n",
    "print('count=%s'%(count,))"
   ]
  },
  {
   "cell_type": "code",
   "execution_count": 4,
   "metadata": {},
   "outputs": [],
   "source": [
    "def split_fs(fname):\n",
    "    df=pd.read_csv(fname, index_col=0, low_memory=False)\n",
    "    for colname in col_to_extdict:\n",
    "        dff=df[colname]\n",
    "        dff.to_csv('%s%s'%(fname[:-7],col_to_extdict[colname]),header=colname[1:])\n",
    "        \n",
    "    return"
   ]
  },
  {
   "cell_type": "code",
   "execution_count": 5,
   "metadata": {},
   "outputs": [],
   "source": [
    "for lname in glob.glob(name):\n",
    "    split_fs(lname)"
   ]
  },
  {
   "cell_type": "code",
   "execution_count": 6,
   "metadata": {},
   "outputs": [
    {
     "name": "stdout",
     "output_type": "stream",
     "text": [
      "all files are the same\n"
     ]
    }
   ],
   "source": [
    "#diff test\n",
    "flg=False\n",
    "for lname in glob.glob(name):#files to be split\n",
    "    if not 'met.csv' in lname:#ensures we do not read files we have generated, as we remove this extension\n",
    "        continue\n",
    "    dftest=pd.read_csv(lname, index_col=0, low_memory=False)\n",
    "    #print(dftest.columns)\n",
    "    #print(dftest)\n",
    "    for col in col_to_extdict:\n",
    "        dftemp=dftest[[col]]\n",
    "        dfmy=pd.DataFrame()\n",
    "        myname='%s%s'%(lname[:-7],col_to_extdict[col])\n",
    "        dfmy=pd.read_csv(myname, index_col=0, low_memory=False)\n",
    "        #print(dftemp)\n",
    "        #print(dfmy)\n",
    "        if not dftemp.equals(dfmy):\n",
    "            flg=True\n",
    "            print('files are not identical\\n%s and %s'%(lname,myname))\n",
    "            print('problem rows')\n",
    "            newdf=pd.concat([dftemp,dfmy]).drop_duplicates(keep=False)\n",
    "            print(newdf)\n",
    "\n",
    "if not flg:\n",
    "    print('all files are the same')"
   ]
  },
  {
   "cell_type": "code",
   "execution_count": 8,
   "metadata": {},
   "outputs": [],
   "source": [
    "#file remove cell for convienence\n",
    "remove_flg=False\n",
    "remove_all_flg=False\n",
    "\n",
    "if remove_flg:\n",
    "    for fname in glob.glob(\"CO-OPS_8736897*\"):\n",
    "        if not 'met.csv' in fname and not remove_all_flg:\n",
    "            os.remove(fname)\n",
    "        if remove_all_flg:\n",
    "            os.remove(fname)"
   ]
  },
  {
   "cell_type": "code",
   "execution_count": null,
   "metadata": {},
   "outputs": [],
   "source": []
  },
  {
   "cell_type": "code",
   "execution_count": null,
   "metadata": {},
   "outputs": [],
   "source": []
  }
 ],
 "metadata": {
  "kernelspec": {
   "display_name": "Python 3",
   "language": "python",
   "name": "python3"
  },
  "language_info": {
   "codemirror_mode": {
    "name": "ipython",
    "version": 3
   },
   "file_extension": ".py",
   "mimetype": "text/x-python",
   "name": "python",
   "nbconvert_exporter": "python",
   "pygments_lexer": "ipython3",
   "version": "3.7.1"
  }
 },
 "nbformat": 4,
 "nbformat_minor": 2
}
