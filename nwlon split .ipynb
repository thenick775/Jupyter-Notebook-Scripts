{
 "cells": [
  {
   "cell_type": "code",
   "execution_count": 1,
   "metadata": {},
   "outputs": [],
   "source": [
    "#This notebook takes in the monthly 6 minute co-ops nwlon station meteorological data\n",
    "#and separates it into files based on measurement type, one for each measurement type per each monthly file"
   ]
  },
  {
   "cell_type": "code",
   "execution_count": 2,
   "metadata": {},
   "outputs": [],
   "source": [
    "import numpy as np\n",
    "import pandas as pd\n",
    "import glob\n",
    "import os"
   ]
  },
  {
   "cell_type": "code",
   "execution_count": 3,
   "metadata": {
    "scrolled": true
   },
   "outputs": [
    {
     "name": "stdout",
     "output_type": "stream",
     "text": [
      "CO-OPS_8736897_from_20180201_to_20180228_met.csv\n",
      "CO-OPS_8736897_from_20180701_to_20180731_met.csv\n",
      "CO-OPS_8736897_from_20180801_to_20180831_met.csv\n",
      "CO-OPS_8736897_from_20181001_to_20181031_met.csv\n",
      "CO-OPS_8736897_from_20180101_to_20180131_met.csv\n",
      "CO-OPS_8736897_from_20180401_to_20180430_met.csv\n",
      "CO-OPS_8736897_from_20181101_to_20181130_met.csv\n",
      "CO-OPS_8736897_from_20180501_to_20180531_met.csv\n",
      "CO-OPS_8736897_from_20180901_to_20180930_met.csv\n",
      "CO-OPS_8736897_from_20181201_to_20181231_met.csv\n",
      "CO-OPS_8736897_from_20180301_to_20180331_met.csv\n",
      "CO-OPS_8736897_from_20180601_to_20180630_met.csv\n",
      "count=12\n"
     ]
    }
   ],
   "source": [
    "testname='CO-OPS_8736897_from_20181201_to_20181231_met.csv'\n",
    "name='%s%s'%('CO-OPS_8736897','*')\n",
    "#col_names=[' WINDSPEED',' DIR',' GUSTS',' AT',' BARO',' RELHUM',' VIS']\n",
    "col_to_extdict={' WINDSPEED':'ws.csv',' DIR':'wd.csv',' GUSTS':'gs.csv',' AT':'at.csv',' BARO':'bp.csv',' RELHUM':'rh.csv',' VIS':'vs.csv'}\n",
    "df=pd.read_csv('CO-OPS_8736897_from_20181201_to_20181231_met.csv', index_col=0, low_memory=False)\n",
    "count=0\n",
    "for fname in glob.glob(\"CO-OPS_8736897*\"):\n",
    "    print(fname)\n",
    "    count+=1\n",
    "print('count=%s'%(count,))"
   ]
  },
  {
   "cell_type": "code",
   "execution_count": 4,
   "metadata": {},
   "outputs": [],
   "source": [
    "def split_fs(fname):\n",
    "    df=pd.read_csv(fname, index_col=0, low_memory=False)\n",
    "    for colname in col_to_extdict:\n",
    "        dff=df[colname]\n",
    "        dff.to_csv('%s%s'%(fname[:-7],col_to_extdict[colname]),header=colname[1:])\n",
    "        \n",
    "    return"
   ]
  },
  {
   "cell_type": "code",
   "execution_count": 5,
   "metadata": {},
   "outputs": [],
   "source": [
    "for lname in glob.glob(name):\n",
    "    split_fs(lname)"
   ]
  },
  {
   "cell_type": "code",
   "execution_count": 6,
   "metadata": {},
   "outputs": [
    {
     "name": "stdout",
     "output_type": "stream",
     "text": [
      "all files are the same\n"
     ]
    }
   ],
   "source": [
    "#diff test\n",
    "flg=False\n",
    "for lname in glob.glob(name):\n",
    "    if not 'met.csv' in lname:\n",
    "        continue\n",
    "    dftest=pd.read_csv(lname, index_col=0, low_memory=False)\n",
    "    #print(dftest.columns)\n",
    "    #print(dftest)\n",
    "    for col in col_to_extdict:\n",
    "        dftemp=dftest[[col]]\n",
    "        dfmy=pd.DataFrame()\n",
    "        myname='%s%s'%(lname[:-7],col_to_extdict[col])\n",
    "        dfmy=pd.read_csv(myname, index_col=0, low_memory=False)\n",
    "        #print(dftemp)\n",
    "        #print(dfmy)\n",
    "        if not dftemp.equals(dfmy):\n",
    "            flg=True\n",
    "            print('files are not identical\\n%s and %s'%(lname,myname))\n",
    "            print('problem rows')\n",
    "            newdf=pd.concat([dftemp,dfmy]).drop_duplicates(keep=False)\n",
    "            print(newdf)\n",
    "\n",
    "if not flg:\n",
    "    print('all files are the same')"
   ]
  },
  {
   "cell_type": "code",
   "execution_count": 8,
   "metadata": {},
   "outputs": [],
   "source": [
    "remove_flg=False\n",
    "\n",
    "if remove_flg:\n",
    "    for fname in glob.glob(\"CO-OPS_8736897*\"):\n",
    "        if not 'met.csv' in fname:\n",
    "            os.remove(fname)"
   ]
  },
  {
   "cell_type": "code",
   "execution_count": null,
   "metadata": {},
   "outputs": [],
   "source": []
  }
 ],
 "metadata": {
  "kernelspec": {
   "display_name": "Python 3",
   "language": "python",
   "name": "python3"
  },
  "language_info": {
   "codemirror_mode": {
    "name": "ipython",
    "version": 3
   },
   "file_extension": ".py",
   "mimetype": "text/x-python",
   "name": "python",
   "nbconvert_exporter": "python",
   "pygments_lexer": "ipython3",
   "version": "3.7.1"
  }
 },
 "nbformat": 4,
 "nbformat_minor": 2
}
