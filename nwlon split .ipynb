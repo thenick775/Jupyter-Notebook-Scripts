{
 "cells": [
  {
   "cell_type": "code",
   "execution_count": 1,
   "metadata": {},
   "outputs": [],
   "source": [
    "import numpy as np"
   ]
  },
  {
   "cell_type": "code",
   "execution_count": 2,
   "metadata": {},
   "outputs": [],
   "source": [
    "import pandas as pd"
   ]
  },
  {
   "cell_type": "code",
   "execution_count": 3,
   "metadata": {},
   "outputs": [],
   "source": [
    "df=pd.read_csv('CO-OPS_8736897_from_20181201_to_20181231_met.csv', index_col=0, low_memory=False)"
   ]
  },
  {
   "cell_type": "code",
   "execution_count": 4,
   "metadata": {},
   "outputs": [
    {
     "data": {
      "text/plain": [
       "Index([' WINDSPEED', ' DIR', ' GUSTS', ' AT', ' BARO', ' RELHUM', ' VIS'], dtype='object')"
      ]
     },
     "execution_count": 4,
     "metadata": {},
     "output_type": "execute_result"
    }
   ],
   "source": [
    "df.columns"
   ]
  },
  {
   "cell_type": "code",
   "execution_count": 5,
   "metadata": {},
   "outputs": [],
   "source": [
    "df1=df[' WINDSPEED']"
   ]
  },
  {
   "cell_type": "code",
   "execution_count": 6,
   "metadata": {},
   "outputs": [],
   "source": [
    "df2=df[' DIR']"
   ]
  },
  {
   "cell_type": "code",
   "execution_count": 7,
   "metadata": {},
   "outputs": [],
   "source": [
    "df3=df[' GUSTS']"
   ]
  },
  {
   "cell_type": "code",
   "execution_count": 8,
   "metadata": {},
   "outputs": [],
   "source": [
    "df4=df[' AT']"
   ]
  },
  {
   "cell_type": "code",
   "execution_count": 9,
   "metadata": {},
   "outputs": [],
   "source": [
    "df5=df[' BARO']"
   ]
  },
  {
   "cell_type": "code",
   "execution_count": 10,
   "metadata": {},
   "outputs": [],
   "source": [
    "df6=df[' RELHUM']"
   ]
  },
  {
   "cell_type": "code",
   "execution_count": 11,
   "metadata": {},
   "outputs": [],
   "source": [
    "df7=df[' VIS']"
   ]
  },
  {
   "cell_type": "code",
   "execution_count": 12,
   "metadata": {},
   "outputs": [
    {
     "data": {
      "text/plain": [
       "DATE TIME\n",
       "12/01/2018 00:00     4.67\n",
       "12/01/2018 00:06     5.44\n",
       "12/01/2018 00:12     3.89\n",
       "12/01/2018 00:18     3.69\n",
       "12/01/2018 00:24     1.75\n",
       "12/01/2018 00:30     1.94\n",
       "12/01/2018 00:36     0.78\n",
       "12/01/2018 00:42     1.36\n",
       "12/01/2018 00:48     0.97\n",
       "12/01/2018 00:54     1.56\n",
       "12/01/2018 01:00     0.39\n",
       "12/01/2018 01:06     1.36\n",
       "12/01/2018 01:12     2.72\n",
       "12/01/2018 01:18     3.69\n",
       "12/01/2018 01:24     2.14\n",
       "12/01/2018 01:30     1.36\n",
       "12/01/2018 01:36     1.94\n",
       "12/01/2018 01:42     3.69\n",
       "12/01/2018 01:48     3.69\n",
       "12/01/2018 01:54     1.94\n",
       "12/01/2018 02:00     3.50\n",
       "12/01/2018 02:06     5.25\n",
       "12/01/2018 02:12     6.80\n",
       "12/01/2018 02:18     6.22\n",
       "12/01/2018 02:24     6.22\n",
       "12/01/2018 02:30     4.67\n",
       "12/01/2018 02:36     3.50\n",
       "12/01/2018 02:42     1.36\n",
       "12/01/2018 02:48     2.33\n",
       "12/01/2018 02:54     2.92\n",
       "                    ...  \n",
       "12/31/2018 21:00    16.91\n",
       "12/31/2018 21:06    10.50\n",
       "12/31/2018 21:12     7.19\n",
       "12/31/2018 21:18     9.14\n",
       "12/31/2018 21:24     9.91\n",
       "12/31/2018 21:30     7.39\n",
       "12/31/2018 21:36    11.08\n",
       "12/31/2018 21:42     8.55\n",
       "12/31/2018 21:48     9.14\n",
       "12/31/2018 21:54     9.33\n",
       "12/31/2018 22:00     9.14\n",
       "12/31/2018 22:06     9.33\n",
       "12/31/2018 22:12     6.80\n",
       "12/31/2018 22:18    10.11\n",
       "12/31/2018 22:24     7.58\n",
       "12/31/2018 22:30     6.80\n",
       "12/31/2018 22:36    11.08\n",
       "12/31/2018 22:42    14.58\n",
       "12/31/2018 22:48    10.30\n",
       "12/31/2018 22:54    11.66\n",
       "12/31/2018 23:00    10.50\n",
       "12/31/2018 23:06     7.00\n",
       "12/31/2018 23:12    11.08\n",
       "12/31/2018 23:18    11.66\n",
       "12/31/2018 23:24    10.11\n",
       "12/31/2018 23:30    13.41\n",
       "12/31/2018 23:36    10.11\n",
       "12/31/2018 23:42    10.69\n",
       "12/31/2018 23:48    10.30\n",
       "12/31/2018 23:54    11.47\n",
       "Name:  WINDSPEED, Length: 7440, dtype: float64"
      ]
     },
     "execution_count": 12,
     "metadata": {},
     "output_type": "execute_result"
    }
   ],
   "source": [
    "df1"
   ]
  },
  {
   "cell_type": "code",
   "execution_count": 13,
   "metadata": {},
   "outputs": [],
   "source": [
    "df1.to_csv('CO-OPS_8736897_from_20181201_to_20181231_ws.csv')"
   ]
  },
  {
   "cell_type": "code",
   "execution_count": null,
   "metadata": {},
   "outputs": [],
   "source": []
  },
  {
   "cell_type": "code",
   "execution_count": null,
   "metadata": {},
   "outputs": [],
   "source": []
  }
 ],
 "metadata": {
  "kernelspec": {
   "display_name": "Python 3",
   "language": "python",
   "name": "python3"
  },
  "language_info": {
   "codemirror_mode": {
    "name": "ipython",
    "version": 3
   },
   "file_extension": ".py",
   "mimetype": "text/x-python",
   "name": "python",
   "nbconvert_exporter": "python",
   "pygments_lexer": "ipython3",
   "version": "3.7.1"
  }
 },
 "nbformat": 4,
 "nbformat_minor": 2
}
