{
 "cells": [
  {
   "cell_type": "code",
   "execution_count": 1,
   "metadata": {},
   "outputs": [],
   "source": [
    "import pandas as pd"
   ]
  },
  {
   "cell_type": "code",
   "execution_count": 2,
   "metadata": {},
   "outputs": [],
   "source": [
    "import numpy as np"
   ]
  },
  {
   "cell_type": "code",
   "execution_count": 3,
   "metadata": {},
   "outputs": [],
   "source": [
    "from datetime import datetime"
   ]
  },
  {
   "cell_type": "code",
   "execution_count": 4,
   "metadata": {},
   "outputs": [],
   "source": [
    "df=pd.read_csv('GE_K0_CPI_301247.csv');"
   ]
  },
  {
   "cell_type": "code",
   "execution_count": 5,
   "metadata": {},
   "outputs": [
    {
     "data": {
      "text/plain": [
       "Index(['CDF_EPOCH_yyyy-mm-ddThh:mm:ss.sssZ', 'PRESSURE_Pascals'], dtype='object')"
      ]
     },
     "execution_count": 5,
     "metadata": {},
     "output_type": "execute_result"
    }
   ],
   "source": [
    "df.columns"
   ]
  },
  {
   "cell_type": "code",
   "execution_count": 6,
   "metadata": {},
   "outputs": [
    {
     "data": {
      "text/plain": [
       "CDF_EPOCH_yyyy-mm-ddThh:mm:ss.sssZ        0\n",
       "PRESSURE_Pascals                      19460\n",
       "dtype: int64"
      ]
     },
     "execution_count": 6,
     "metadata": {},
     "output_type": "execute_result"
    }
   ],
   "source": [
    "df[df == -1.00000e+31].count() "
   ]
  },
  {
   "cell_type": "code",
   "execution_count": 7,
   "metadata": {},
   "outputs": [
    {
     "data": {
      "text/plain": [
       "CDF_EPOCH_yyyy-mm-ddThh:mm:ss.sssZ    0\n",
       "PRESSURE_Pascals                      0\n",
       "dtype: int64"
      ]
     },
     "execution_count": 7,
     "metadata": {},
     "output_type": "execute_result"
    }
   ],
   "source": [
    "df[df == -32768].count() "
   ]
  },
  {
   "cell_type": "code",
   "execution_count": 8,
   "metadata": {},
   "outputs": [
    {
     "data": {
      "text/plain": [
       "CDF_EPOCH_yyyy-mm-ddThh:mm:ss.sssZ    402815\n",
       "PRESSURE_Pascals                      402815\n",
       "dtype: int64"
      ]
     },
     "execution_count": 8,
     "metadata": {},
     "output_type": "execute_result"
    }
   ],
   "source": [
    "df.count()"
   ]
  },
  {
   "cell_type": "code",
   "execution_count": 9,
   "metadata": {},
   "outputs": [
    {
     "data": {
      "text/plain": [
       "CDF_EPOCH_yyyy-mm-ddThh:mm:ss.sssZ    0\n",
       "PRESSURE_Pascals                      0\n",
       "dtype: int64"
      ]
     },
     "execution_count": 9,
     "metadata": {},
     "output_type": "execute_result"
    }
   ],
   "source": [
    "df[df == 0].count() "
   ]
  },
  {
   "cell_type": "code",
   "execution_count": 10,
   "metadata": {},
   "outputs": [
    {
     "data": {
      "text/plain": [
       "0"
      ]
     },
     "execution_count": 10,
     "metadata": {},
     "output_type": "execute_result"
    }
   ],
   "source": [
    "df.isnull().values.ravel().sum()"
   ]
  },
  {
   "cell_type": "code",
   "execution_count": 11,
   "metadata": {},
   "outputs": [
    {
     "data": {
      "text/html": [
       "<div>\n",
       "<style scoped>\n",
       "    .dataframe tbody tr th:only-of-type {\n",
       "        vertical-align: middle;\n",
       "    }\n",
       "\n",
       "    .dataframe tbody tr th {\n",
       "        vertical-align: top;\n",
       "    }\n",
       "\n",
       "    .dataframe thead th {\n",
       "        text-align: right;\n",
       "    }\n",
       "</style>\n",
       "<table border=\"1\" class=\"dataframe\">\n",
       "  <thead>\n",
       "    <tr style=\"text-align: right;\">\n",
       "      <th></th>\n",
       "      <th>CDF_EPOCH_yyyy-mm-ddThh:mm:ss.sssZ</th>\n",
       "      <th>PRESSURE_Pascals</th>\n",
       "    </tr>\n",
       "  </thead>\n",
       "  <tbody>\n",
       "    <tr>\n",
       "      <th>0</th>\n",
       "      <td>2014-01-01T00:26:43.637Z</td>\n",
       "      <td>1.125290e-10</td>\n",
       "    </tr>\n",
       "    <tr>\n",
       "      <th>1</th>\n",
       "      <td>2014-01-01T00:27:47.637Z</td>\n",
       "      <td>8.850030e-11</td>\n",
       "    </tr>\n",
       "    <tr>\n",
       "      <th>2</th>\n",
       "      <td>2014-01-01T00:28:51.637Z</td>\n",
       "      <td>7.677480e-11</td>\n",
       "    </tr>\n",
       "    <tr>\n",
       "      <th>3</th>\n",
       "      <td>2014-01-01T00:29:55.637Z</td>\n",
       "      <td>9.873050e-11</td>\n",
       "    </tr>\n",
       "    <tr>\n",
       "      <th>4</th>\n",
       "      <td>2014-01-01T00:30:59.637Z</td>\n",
       "      <td>1.397990e-10</td>\n",
       "    </tr>\n",
       "    <tr>\n",
       "      <th>5</th>\n",
       "      <td>2014-01-01T00:32:03.637Z</td>\n",
       "      <td>8.324710e-11</td>\n",
       "    </tr>\n",
       "    <tr>\n",
       "      <th>6</th>\n",
       "      <td>2014-01-01T00:33:07.637Z</td>\n",
       "      <td>7.872220e-11</td>\n",
       "    </tr>\n",
       "    <tr>\n",
       "      <th>7</th>\n",
       "      <td>2014-01-01T00:34:11.637Z</td>\n",
       "      <td>1.025920e-10</td>\n",
       "    </tr>\n",
       "    <tr>\n",
       "      <th>8</th>\n",
       "      <td>2014-01-01T00:35:15.637Z</td>\n",
       "      <td>7.103160e-11</td>\n",
       "    </tr>\n",
       "    <tr>\n",
       "      <th>9</th>\n",
       "      <td>2014-01-01T00:36:19.637Z</td>\n",
       "      <td>8.072050e-11</td>\n",
       "    </tr>\n",
       "    <tr>\n",
       "      <th>10</th>\n",
       "      <td>2014-01-01T00:37:23.637Z</td>\n",
       "      <td>6.980200e-11</td>\n",
       "    </tr>\n",
       "    <tr>\n",
       "      <th>11</th>\n",
       "      <td>2014-01-01T00:38:27.637Z</td>\n",
       "      <td>1.198720e-10</td>\n",
       "    </tr>\n",
       "    <tr>\n",
       "      <th>12</th>\n",
       "      <td>2014-01-01T00:39:31.637Z</td>\n",
       "      <td>9.189650e-11</td>\n",
       "    </tr>\n",
       "    <tr>\n",
       "      <th>13</th>\n",
       "      <td>2014-01-01T00:40:35.637Z</td>\n",
       "      <td>8.104380e-11</td>\n",
       "    </tr>\n",
       "    <tr>\n",
       "      <th>14</th>\n",
       "      <td>2014-01-01T00:41:39.637Z</td>\n",
       "      <td>1.243970e-10</td>\n",
       "    </tr>\n",
       "    <tr>\n",
       "      <th>15</th>\n",
       "      <td>2014-01-01T00:42:43.637Z</td>\n",
       "      <td>1.215250e-10</td>\n",
       "    </tr>\n",
       "    <tr>\n",
       "      <th>16</th>\n",
       "      <td>2014-01-01T00:43:47.637Z</td>\n",
       "      <td>8.994650e-11</td>\n",
       "    </tr>\n",
       "    <tr>\n",
       "      <th>17</th>\n",
       "      <td>2014-01-01T00:44:51.637Z</td>\n",
       "      <td>8.621410e-11</td>\n",
       "    </tr>\n",
       "    <tr>\n",
       "      <th>18</th>\n",
       "      <td>2014-01-01T00:45:55.637Z</td>\n",
       "      <td>1.353730e-10</td>\n",
       "    </tr>\n",
       "    <tr>\n",
       "      <th>19</th>\n",
       "      <td>2014-01-01T00:46:59.637Z</td>\n",
       "      <td>7.354860e-11</td>\n",
       "    </tr>\n",
       "    <tr>\n",
       "      <th>20</th>\n",
       "      <td>2014-01-01T00:48:03.637Z</td>\n",
       "      <td>1.065930e-10</td>\n",
       "    </tr>\n",
       "    <tr>\n",
       "      <th>21</th>\n",
       "      <td>2014-01-01T00:49:07.637Z</td>\n",
       "      <td>1.117070e-10</td>\n",
       "    </tr>\n",
       "    <tr>\n",
       "      <th>22</th>\n",
       "      <td>2014-01-01T00:50:11.637Z</td>\n",
       "      <td>8.204510e-11</td>\n",
       "    </tr>\n",
       "    <tr>\n",
       "      <th>23</th>\n",
       "      <td>2014-01-01T00:51:15.637Z</td>\n",
       "      <td>8.366010e-11</td>\n",
       "    </tr>\n",
       "    <tr>\n",
       "      <th>24</th>\n",
       "      <td>2014-01-01T00:52:19.637Z</td>\n",
       "      <td>8.918060e-11</td>\n",
       "    </tr>\n",
       "  </tbody>\n",
       "</table>\n",
       "</div>"
      ],
      "text/plain": [
       "   CDF_EPOCH_yyyy-mm-ddThh:mm:ss.sssZ  PRESSURE_Pascals\n",
       "0            2014-01-01T00:26:43.637Z      1.125290e-10\n",
       "1            2014-01-01T00:27:47.637Z      8.850030e-11\n",
       "2            2014-01-01T00:28:51.637Z      7.677480e-11\n",
       "3            2014-01-01T00:29:55.637Z      9.873050e-11\n",
       "4            2014-01-01T00:30:59.637Z      1.397990e-10\n",
       "5            2014-01-01T00:32:03.637Z      8.324710e-11\n",
       "6            2014-01-01T00:33:07.637Z      7.872220e-11\n",
       "7            2014-01-01T00:34:11.637Z      1.025920e-10\n",
       "8            2014-01-01T00:35:15.637Z      7.103160e-11\n",
       "9            2014-01-01T00:36:19.637Z      8.072050e-11\n",
       "10           2014-01-01T00:37:23.637Z      6.980200e-11\n",
       "11           2014-01-01T00:38:27.637Z      1.198720e-10\n",
       "12           2014-01-01T00:39:31.637Z      9.189650e-11\n",
       "13           2014-01-01T00:40:35.637Z      8.104380e-11\n",
       "14           2014-01-01T00:41:39.637Z      1.243970e-10\n",
       "15           2014-01-01T00:42:43.637Z      1.215250e-10\n",
       "16           2014-01-01T00:43:47.637Z      8.994650e-11\n",
       "17           2014-01-01T00:44:51.637Z      8.621410e-11\n",
       "18           2014-01-01T00:45:55.637Z      1.353730e-10\n",
       "19           2014-01-01T00:46:59.637Z      7.354860e-11\n",
       "20           2014-01-01T00:48:03.637Z      1.065930e-10\n",
       "21           2014-01-01T00:49:07.637Z      1.117070e-10\n",
       "22           2014-01-01T00:50:11.637Z      8.204510e-11\n",
       "23           2014-01-01T00:51:15.637Z      8.366010e-11\n",
       "24           2014-01-01T00:52:19.637Z      8.918060e-11"
      ]
     },
     "execution_count": 11,
     "metadata": {},
     "output_type": "execute_result"
    }
   ],
   "source": [
    "df.head(25)"
   ]
  },
  {
   "cell_type": "code",
   "execution_count": 12,
   "metadata": {},
   "outputs": [
    {
     "data": {
      "text/html": [
       "<div>\n",
       "<style scoped>\n",
       "    .dataframe tbody tr th:only-of-type {\n",
       "        vertical-align: middle;\n",
       "    }\n",
       "\n",
       "    .dataframe tbody tr th {\n",
       "        vertical-align: top;\n",
       "    }\n",
       "\n",
       "    .dataframe thead th {\n",
       "        text-align: right;\n",
       "    }\n",
       "</style>\n",
       "<table border=\"1\" class=\"dataframe\">\n",
       "  <thead>\n",
       "    <tr style=\"text-align: right;\">\n",
       "      <th></th>\n",
       "      <th>CDF_EPOCH_yyyy-mm-ddThh:mm:ss.sssZ</th>\n",
       "      <th>PRESSURE_Pascals</th>\n",
       "    </tr>\n",
       "  </thead>\n",
       "  <tbody>\n",
       "    <tr>\n",
       "      <th>402790</th>\n",
       "      <td>2014-12-31T22:34:10.344Z</td>\n",
       "      <td>1.913640e-10</td>\n",
       "    </tr>\n",
       "    <tr>\n",
       "      <th>402791</th>\n",
       "      <td>2014-12-31T22:35:14.344Z</td>\n",
       "      <td>1.333280e-10</td>\n",
       "    </tr>\n",
       "    <tr>\n",
       "      <th>402792</th>\n",
       "      <td>2014-12-31T22:36:18.344Z</td>\n",
       "      <td>9.347500e-11</td>\n",
       "    </tr>\n",
       "    <tr>\n",
       "      <th>402793</th>\n",
       "      <td>2014-12-31T22:37:22.344Z</td>\n",
       "      <td>1.458910e-10</td>\n",
       "    </tr>\n",
       "    <tr>\n",
       "      <th>402794</th>\n",
       "      <td>2014-12-31T22:38:26.344Z</td>\n",
       "      <td>1.438700e-10</td>\n",
       "    </tr>\n",
       "    <tr>\n",
       "      <th>402795</th>\n",
       "      <td>2014-12-31T22:39:30.344Z</td>\n",
       "      <td>8.850540e-11</td>\n",
       "    </tr>\n",
       "    <tr>\n",
       "      <th>402796</th>\n",
       "      <td>2014-12-31T22:40:34.344Z</td>\n",
       "      <td>1.113710e-10</td>\n",
       "    </tr>\n",
       "    <tr>\n",
       "      <th>402797</th>\n",
       "      <td>2014-12-31T22:41:38.344Z</td>\n",
       "      <td>2.075620e-10</td>\n",
       "    </tr>\n",
       "    <tr>\n",
       "      <th>402798</th>\n",
       "      <td>2014-12-31T22:42:42.344Z</td>\n",
       "      <td>1.723330e-10</td>\n",
       "    </tr>\n",
       "    <tr>\n",
       "      <th>402799</th>\n",
       "      <td>2014-12-31T22:43:46.344Z</td>\n",
       "      <td>1.225690e-10</td>\n",
       "    </tr>\n",
       "    <tr>\n",
       "      <th>402800</th>\n",
       "      <td>2014-12-31T22:44:50.344Z</td>\n",
       "      <td>1.254070e-10</td>\n",
       "    </tr>\n",
       "    <tr>\n",
       "      <th>402801</th>\n",
       "      <td>2014-12-31T22:45:54.344Z</td>\n",
       "      <td>1.366800e-10</td>\n",
       "    </tr>\n",
       "    <tr>\n",
       "      <th>402802</th>\n",
       "      <td>2014-12-31T22:46:58.344Z</td>\n",
       "      <td>1.135540e-10</td>\n",
       "    </tr>\n",
       "    <tr>\n",
       "      <th>402803</th>\n",
       "      <td>2014-12-31T22:48:02.344Z</td>\n",
       "      <td>1.432400e-10</td>\n",
       "    </tr>\n",
       "    <tr>\n",
       "      <th>402804</th>\n",
       "      <td>2014-12-31T22:49:06.344Z</td>\n",
       "      <td>1.184490e-10</td>\n",
       "    </tr>\n",
       "    <tr>\n",
       "      <th>402805</th>\n",
       "      <td>2014-12-31T22:50:10.344Z</td>\n",
       "      <td>1.418430e-10</td>\n",
       "    </tr>\n",
       "    <tr>\n",
       "      <th>402806</th>\n",
       "      <td>2014-12-31T22:51:14.344Z</td>\n",
       "      <td>1.732070e-10</td>\n",
       "    </tr>\n",
       "    <tr>\n",
       "      <th>402807</th>\n",
       "      <td>2014-12-31T22:52:18.344Z</td>\n",
       "      <td>2.095150e-10</td>\n",
       "    </tr>\n",
       "    <tr>\n",
       "      <th>402808</th>\n",
       "      <td>2014-12-31T22:53:22.344Z</td>\n",
       "      <td>1.454210e-10</td>\n",
       "    </tr>\n",
       "    <tr>\n",
       "      <th>402809</th>\n",
       "      <td>2014-12-31T22:54:26.344Z</td>\n",
       "      <td>1.410850e-10</td>\n",
       "    </tr>\n",
       "    <tr>\n",
       "      <th>402810</th>\n",
       "      <td>2014-12-31T22:55:30.344Z</td>\n",
       "      <td>1.935510e-10</td>\n",
       "    </tr>\n",
       "    <tr>\n",
       "      <th>402811</th>\n",
       "      <td>2014-12-31T22:56:34.344Z</td>\n",
       "      <td>1.212070e-10</td>\n",
       "    </tr>\n",
       "    <tr>\n",
       "      <th>402812</th>\n",
       "      <td>2014-12-31T22:57:38.344Z</td>\n",
       "      <td>1.710870e-10</td>\n",
       "    </tr>\n",
       "    <tr>\n",
       "      <th>402813</th>\n",
       "      <td>2014-12-31T22:58:42.344Z</td>\n",
       "      <td>1.616100e-10</td>\n",
       "    </tr>\n",
       "    <tr>\n",
       "      <th>402814</th>\n",
       "      <td>2014-12-31T22:59:46.344Z</td>\n",
       "      <td>1.788490e-10</td>\n",
       "    </tr>\n",
       "  </tbody>\n",
       "</table>\n",
       "</div>"
      ],
      "text/plain": [
       "       CDF_EPOCH_yyyy-mm-ddThh:mm:ss.sssZ  PRESSURE_Pascals\n",
       "402790           2014-12-31T22:34:10.344Z      1.913640e-10\n",
       "402791           2014-12-31T22:35:14.344Z      1.333280e-10\n",
       "402792           2014-12-31T22:36:18.344Z      9.347500e-11\n",
       "402793           2014-12-31T22:37:22.344Z      1.458910e-10\n",
       "402794           2014-12-31T22:38:26.344Z      1.438700e-10\n",
       "402795           2014-12-31T22:39:30.344Z      8.850540e-11\n",
       "402796           2014-12-31T22:40:34.344Z      1.113710e-10\n",
       "402797           2014-12-31T22:41:38.344Z      2.075620e-10\n",
       "402798           2014-12-31T22:42:42.344Z      1.723330e-10\n",
       "402799           2014-12-31T22:43:46.344Z      1.225690e-10\n",
       "402800           2014-12-31T22:44:50.344Z      1.254070e-10\n",
       "402801           2014-12-31T22:45:54.344Z      1.366800e-10\n",
       "402802           2014-12-31T22:46:58.344Z      1.135540e-10\n",
       "402803           2014-12-31T22:48:02.344Z      1.432400e-10\n",
       "402804           2014-12-31T22:49:06.344Z      1.184490e-10\n",
       "402805           2014-12-31T22:50:10.344Z      1.418430e-10\n",
       "402806           2014-12-31T22:51:14.344Z      1.732070e-10\n",
       "402807           2014-12-31T22:52:18.344Z      2.095150e-10\n",
       "402808           2014-12-31T22:53:22.344Z      1.454210e-10\n",
       "402809           2014-12-31T22:54:26.344Z      1.410850e-10\n",
       "402810           2014-12-31T22:55:30.344Z      1.935510e-10\n",
       "402811           2014-12-31T22:56:34.344Z      1.212070e-10\n",
       "402812           2014-12-31T22:57:38.344Z      1.710870e-10\n",
       "402813           2014-12-31T22:58:42.344Z      1.616100e-10\n",
       "402814           2014-12-31T22:59:46.344Z      1.788490e-10"
      ]
     },
     "execution_count": 12,
     "metadata": {},
     "output_type": "execute_result"
    }
   ],
   "source": [
    "df.tail(25)"
   ]
  },
  {
   "cell_type": "code",
   "execution_count": 16,
   "metadata": {},
   "outputs": [],
   "source": [
    "d1=datetime.strptime(df.iloc[0][0], \" %Y-%m-%dT%H:%M:%S.%fZ\")"
   ]
  },
  {
   "cell_type": "code",
   "execution_count": 17,
   "metadata": {},
   "outputs": [],
   "source": [
    "d2=datetime.strptime(df.iloc[1][0], \" %Y-%m-%dT%H:%M:%S.%fZ\")"
   ]
  },
  {
   "cell_type": "code",
   "execution_count": 18,
   "metadata": {},
   "outputs": [
    {
     "data": {
      "text/plain": [
       "datetime.timedelta(seconds=64)"
      ]
     },
     "execution_count": 18,
     "metadata": {},
     "output_type": "execute_result"
    }
   ],
   "source": [
    "d2-d1"
   ]
  },
  {
   "cell_type": "code",
   "execution_count": null,
   "metadata": {},
   "outputs": [],
   "source": []
  }
 ],
 "metadata": {
  "kernelspec": {
   "display_name": "Python 3",
   "language": "python",
   "name": "python3"
  },
  "language_info": {
   "codemirror_mode": {
    "name": "ipython",
    "version": 3
   },
   "file_extension": ".py",
   "mimetype": "text/x-python",
   "name": "python",
   "nbconvert_exporter": "python",
   "pygments_lexer": "ipython3",
   "version": "3.7.1"
  }
 },
 "nbformat": 4,
 "nbformat_minor": 2
}
